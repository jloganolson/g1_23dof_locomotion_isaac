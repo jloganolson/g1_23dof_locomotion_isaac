{
 "cells": [
  {
   "cell_type": "code",
   "execution_count": null,
   "metadata": {},
   "outputs": [
    {
     "name": "stdout",
     "output_type": "stream",
     "text": [
      "Successfully referenced myAsset.usda into referencedScene.usd\n"
     ]
    }
   ],
   "source": [
    "from pxr import Usd, Sdf\n",
    "\n",
    "# Create a new stage\n",
    "new_stage = Usd.Stage.CreateNew('referencedScene.usd')\n",
    "\n",
    "# Define a prim in the new stage to host the reference\n",
    "ref_prim = new_stage.DefinePrim('/world/asset')\n",
    "\n",
    "# Get the references for the newly created prim\n",
    "references = ref_prim.GetReferences()\n",
    "\n",
    "# Add a reference to the existing USD file\n",
    "references.AddReference(assetPath='./assets/g1_23dof_simple.usd')\n",
    "\n",
    "# Save the stage\n",
    "new_stage.Save()\n",
    "\n",
    "print(\"Successfully referenced myAsset.usda into referencedScene.usd\")"
   ]
  },
  {
   "cell_type": "code",
   "execution_count": 3,
   "metadata": {},
   "outputs": [
    {
     "name": "stdout",
     "output_type": "stream",
     "text": [
      "Successfully added existingScene.usda as a sublayer to newScene.usd\n"
     ]
    }
   ],
   "source": [
    "from pxr import Usd, Sdf\n",
    "\n",
    "# Create a new, empty stage\n",
    "new_stage = Usd.Stage.CreateNew('newScene.usd')\n",
    "\n",
    "# Get the root layer of the new stage\n",
    "root_layer = new_stage.GetRootLayer()\n",
    "\n",
    "# Add the existing USD file as a sublayer\n",
    "root_layer.subLayerPaths.append('./assets/g1_23dof_simple.usd')\n",
    "\n",
    "# Save the new stage\n",
    "new_stage.Save()\n",
    "\n",
    "print(\"Successfully added existingScene.usda as a sublayer to newScene.usd\")"
   ]
  },
  {
   "cell_type": "code",
   "execution_count": 15,
   "metadata": {},
   "outputs": [
    {
     "name": "stdout",
     "output_type": "stream",
     "text": [
      "Successfully set 'state:angular:physics:position' for /World/Robot_Modified/joints/right_knee_joint\n",
      "\n",
      "Successfully created 'side_by_side_comparison_corrected.usda' with two robots.\n",
      "The robot at /World/Robot_Modified has a bent right knee using the correct state attribute.\n"
     ]
    }
   ],
   "source": [
    "from pxr import Usd, UsdGeom, Gf, Sdf\n",
    "\n",
    "# Define the input asset path\n",
    "asset_path = './assets/g1_23dof_simple.usd'\n",
    "\n",
    "# Create a new, empty stage in memory\n",
    "stage = Usd.Stage.CreateInMemory()\n",
    "\n",
    "# --- Create the first (original) instance ---\n",
    "# Define a prim for the first robot\n",
    "robot1_prim = stage.DefinePrim('/World/Robot_Original')\n",
    "\n",
    "# Add a reference to the asset under this prim\n",
    "robot1_prim.GetReferences().AddReference(assetPath=asset_path)\n",
    "\n",
    "\n",
    "# --- Create the second (modified) instance ---\n",
    "# Define a prim for the second robot\n",
    "robot2_prim = stage.DefinePrim('/World/Robot_Modified')\n",
    "\n",
    "# Add a reference to the same asset\n",
    "robot2_prim.GetReferences().AddReference(assetPath=asset_path)\n",
    "\n",
    "# Move the second robot 100 units (1m) to the right on the X axis\n",
    "# xformable = UsdGeom.Xformable(robot2_prim)\n",
    "# xformable.AddTranslateOp().Set(Gf.Vec3d(100, 0, 0))\n",
    "xformable = UsdGeom.Xformable(robot2_prim)\n",
    "xformable.ClearXformOpOrder() \n",
    "# Now, add the translate op. This will be the ONLY op on this prim.\n",
    "xformable.AddTranslateOp().Set(Gf.Vec3d(0, 1, 0))\n",
    "\n",
    "# --- Modify the knee joint on the second robot ---\n",
    "# Construct the path to the right knee joint prim on the second robot\n",
    "knee_joint_path = Sdf.Path('/World/Robot_Modified/joints/right_knee_joint')\n",
    "\n",
    "\n",
    "# # Get the joint prim from the stage\n",
    "knee_joint_prim = stage.GetPrimAtPath(knee_joint_path)\n",
    "\n",
    "\n",
    "\n",
    "if knee_joint_prim:\n",
    "    # Get the 'state:angular:physics:position' attribute, which controls the joint's rotation.\n",
    "    # This is the correct attribute for setting the joint's current angle.\n",
    "    joint_pos_attr = knee_joint_prim.GetAttribute('state:angular:physics:position')\n",
    "\n",
    "    if joint_pos_attr:\n",
    "        # Set the knee bend to -90.0 degrees. This will bend the knee.\n",
    "        joint_pos_attr.Set(-90.0)\n",
    "        print(f\"Successfully set 'state:angular:physics:position' for {knee_joint_path}\")\n",
    "    else:\n",
    "        print(f\"Warning: Could not find 'state:angular:physics:position' attribute on prim {knee_joint_path}\")\n",
    "\n",
    "else:\n",
    "    print(f\"Error: Could not find prim at path {knee_joint_path}\")\n",
    "\n",
    "\n",
    "# Save the resulting stage to a file\n",
    "stage.GetRootLayer().Export('side_by_side_comparison_corrected.usda')\n",
    "\n",
    "print(\"\\nSuccessfully created 'side_by_side_comparison_corrected.usda' with two robots.\")\n",
    "print(\"The robot at /World/Robot_Modified has a bent right knee using the correct state attribute.\")"
   ]
  }
 ],
 "metadata": {
  "kernelspec": {
   "display_name": "pxrusd",
   "language": "python",
   "name": "python3"
  },
  "language_info": {
   "codemirror_mode": {
    "name": "ipython",
    "version": 3
   },
   "file_extension": ".py",
   "mimetype": "text/x-python",
   "name": "python",
   "nbconvert_exporter": "python",
   "pygments_lexer": "ipython3",
   "version": "3.10.16"
  }
 },
 "nbformat": 4,
 "nbformat_minor": 2
}
